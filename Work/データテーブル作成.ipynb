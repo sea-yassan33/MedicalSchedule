{
 "cells": [
  {
   "cell_type": "code",
   "execution_count": 1,
   "id": "fa2f2502",
   "metadata": {},
   "outputs": [],
   "source": [
    "import pandas as pd\n",
    "import myfunc as mf"
   ]
  },
  {
   "cell_type": "code",
   "execution_count": null,
   "id": "a5acad75",
   "metadata": {},
   "outputs": [],
   "source": [
    "df = mf.generate_dummy_data(5)\n",
    "df"
   ]
  },
  {
   "cell_type": "code",
   "execution_count": 4,
   "id": "a0981127",
   "metadata": {},
   "outputs": [],
   "source": [
    "## CREATE TABLE文の生成\n",
    "table_name = \"customer_data\"\n",
    "create_table_sql, insert_sql_list  = mf.create_table(df, table_name)"
   ]
  },
  {
   "cell_type": "code",
   "execution_count": 5,
   "id": "0b612669",
   "metadata": {},
   "outputs": [],
   "source": [
    "with open(f'./sql_folder/create_{table_name}.sql', 'w', encoding='utf8') as f:\n",
    "  f.write(create_table_sql)\n",
    "### INSERT文生成\n",
    "# INSERT文をファイルに書き込む  \n",
    "with open(f'./sql_folder/insert_{table_name}.sql', 'w', encoding='utf8') as f:\n",
    "    for insert_sql in insert_sql_list:\n",
    "        f.write(insert_sql + '\\n')"
   ]
  },
  {
   "cell_type": "code",
   "execution_count": 6,
   "id": "46255143",
   "metadata": {},
   "outputs": [],
   "source": [
    "## 専門職テーブルの作成\n",
    "data = [\n",
    "    {\n",
    "        'id': 1,\n",
    "        'name': '石田太郎',\n",
    "        'kana': 'イシダタロウ',\n",
    "        'specialty': 1,\n",
    "        'delet_flag': 0,\n",
    "        'create_date': '2025-05-01 10:30:00',\n",
    "        'update_date': '2025-05-06 10:45:00',\n",
    "    },\n",
    "    {\n",
    "        'id': 2,\n",
    "        'name': '吉田友梨佳',\n",
    "        'kana': 'ヨシダユリカ',\n",
    "        'specialty': 2,\n",
    "        'delet_flag': 0,\n",
    "        'create_date': '2025-05-01 10:30:00',\n",
    "        'update_date': '2025-05-06 10:45:00',\n",
    "    },\n",
    "]\n",
    "# データフレーム作成\n",
    "df = pd.DataFrame(data)\n",
    "# 型変換\n",
    "df = df.astype({\n",
    "    'id': 'int64',\n",
    "    'name': 'string',\n",
    "    'specialty': 'int8',\n",
    "    'delet_flag': 'int8',\n",
    "    'create_date': 'datetime64[ns]',\n",
    "    'update_date': 'datetime64[ns]',\n",
    "})"
   ]
  },
  {
   "cell_type": "code",
   "execution_count": 8,
   "id": "3260f39c",
   "metadata": {},
   "outputs": [],
   "source": [
    "## CREATE TABLE文の生成\n",
    "table_name = \"specialty_data\"\n",
    "create_table_sql, insert_sql_list  = mf.create_table(df, table_name)\n",
    "with open(f'./sql_folder/create_{table_name}.sql', 'w', encoding='utf8') as f:\n",
    "  f.write(create_table_sql)\n",
    "### INSERT文生成\n",
    "# INSERT文をファイルに書き込む  \n",
    "with open(f'./sql_folder/insert_{table_name}.sql', 'w', encoding='utf8') as f:\n",
    "    for insert_sql in insert_sql_list:\n",
    "        f.write(insert_sql + '\\n')"
   ]
  },
  {
   "cell_type": "code",
   "execution_count": 10,
   "id": "3f194be2",
   "metadata": {},
   "outputs": [],
   "source": [
    "## 診療室テーブルの作成\n",
    "data = [\n",
    "    {\n",
    "        'id': 1,\n",
    "        'name': '診療室A',\n",
    "        'remake': '診療室Aの説明',\n",
    "        'create_date': '2025-05-01 10:30:00',\n",
    "        'update_date': '2025-05-06 10:45:00',\n",
    "    },\n",
    "    {\n",
    "        'id': 2,\n",
    "        'name': '診療室B',\n",
    "        'remake': '診療室Bの説明',\n",
    "        'create_date': '2025-05-01 10:30:00',\n",
    "        'update_date': '2025-05-06 10:45:00',\n",
    "    },\n",
    "    {\n",
    "        'id': 3,\n",
    "        'name': '特診室',\n",
    "        'remake': '新患・急患ための特診室',\n",
    "        'create_date': '2025-05-01 10:30:00',\n",
    "        'update_date': '2025-05-06 10:45:00',\n",
    "    },\n",
    "    {\n",
    "        'id': 4,\n",
    "        'name': 'カウンセリング室',\n",
    "        'remake': 'カウンセリング・待合室',\n",
    "        'create_date': '2025-05-01 10:30:00',\n",
    "        'update_date': '2025-05-06 10:45:00',\n",
    "    },\n",
    "]\n",
    "# データフレーム作成\n",
    "df = pd.DataFrame(data)\n",
    "# 型変換\n",
    "df = df.astype({\n",
    "    'id': 'int64',\n",
    "    'name': 'string',\n",
    "    'remake': 'string',\n",
    "    'create_date': 'datetime64[ns]',\n",
    "    'update_date': 'datetime64[ns]',\n",
    "})"
   ]
  },
  {
   "cell_type": "code",
   "execution_count": 11,
   "id": "3b442668",
   "metadata": {},
   "outputs": [],
   "source": [
    "## CREATE TABLE文の生成\n",
    "table_name = \"room_data\"\n",
    "create_table_sql, insert_sql_list  = mf.create_table(df, table_name)\n",
    "with open(f'./sql_folder/create_{table_name}.sql', 'w', encoding='utf8') as f:\n",
    "  f.write(create_table_sql)\n",
    "### INSERT文生成\n",
    "# INSERT文をファイルに書き込む  \n",
    "with open(f'./sql_folder/insert_{table_name}.sql', 'w', encoding='utf8') as f:\n",
    "    for insert_sql in insert_sql_list:\n",
    "        f.write(insert_sql + '\\n')"
   ]
  }
 ],
 "metadata": {
  "kernelspec": {
   "display_name": "Python 3",
   "language": "python",
   "name": "python3"
  },
  "language_info": {
   "codemirror_mode": {
    "name": "ipython",
    "version": 3
   },
   "file_extension": ".py",
   "mimetype": "text/x-python",
   "name": "python",
   "nbconvert_exporter": "python",
   "pygments_lexer": "ipython3",
   "version": "3.11.8"
  }
 },
 "nbformat": 4,
 "nbformat_minor": 5
}
