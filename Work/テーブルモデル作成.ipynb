{
 "cells": [
  {
   "cell_type": "code",
   "execution_count": 1,
   "id": "55ef61b0",
   "metadata": {},
   "outputs": [],
   "source": [
    "import pandas as pd\n",
    "import myfunc as mf\n",
    "import re\n",
    "def create_model_from_sql(sql_file):\n",
    "  with open(sql_file, encoding=\"utf-8\") as f:\n",
    "    sql = f.read()\n",
    "  sql = sql.replace(\" ENGINE=InnoDB DEFAULT CHARSET=utf8mb4\", \"\").replace(\"ENGINE=InnoDB DEFAULT CHARSET=utf8mb4;\", \"\")\n",
    "  table_match = re.search(r'CREATE TABLE\\s+`?(\\w+)`?\\s*\\((.*?)\\);', sql, re.DOTALL | re.IGNORECASE)\n",
    "  if table_match:\n",
    "    table_name = table_match.group(1)\n",
    "    column_lines = table_match.group(2).splitlines()\n",
    "    columns = []\n",
    "    for line in column_lines:\n",
    "      col = mf.parse_column(line)\n",
    "      if col:\n",
    "        columns.append(col)\n",
    "    #print(convert_to_model(table_name, columns))\n",
    "    # ファイルに書き出し\n",
    "    with open(f\"./out/{table_name}.py\", \"w\", encoding=\"utf-8\") as f:\n",
    "      f.write(mf.convert_to_model(table_name, columns))\n",
    "  else:\n",
    "    print(\"テーブル定義のパースに失敗しました。\")\n",
    "    exit(1)"
   ]
  },
  {
   "cell_type": "code",
   "execution_count": 5,
   "id": "3ab0de1f",
   "metadata": {},
   "outputs": [],
   "source": [
    "SQL_FILE = \"./sql_folder/create_customer_data.sql\"\n",
    "create_model_from_sql(SQL_FILE)"
   ]
  },
  {
   "cell_type": "code",
   "execution_count": 2,
   "id": "e1a50fd4",
   "metadata": {},
   "outputs": [],
   "source": [
    "sql_model_list = [\n",
    "  'create_customer_data.sql',\n",
    "  'create_room_data.sql',\n",
    "  'create_specialty_data.sql',\n",
    "  'm_create_appoint_data.sql'\n",
    "]\n",
    "for sql_file in sql_model_list:\n",
    "  sql_file_path = f\"./sql_folder/{sql_file}\"\n",
    "  create_model_from_sql(sql_file_path)"
   ]
  }
 ],
 "metadata": {
  "kernelspec": {
   "display_name": "Python 3",
   "language": "python",
   "name": "python3"
  },
  "language_info": {
   "codemirror_mode": {
    "name": "ipython",
    "version": 3
   },
   "file_extension": ".py",
   "mimetype": "text/x-python",
   "name": "python",
   "nbconvert_exporter": "python",
   "pygments_lexer": "ipython3",
   "version": "3.11.8"
  }
 },
 "nbformat": 4,
 "nbformat_minor": 5
}
